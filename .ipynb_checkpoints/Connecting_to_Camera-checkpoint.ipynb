{
 "cells": [
  {
   "cell_type": "code",
   "execution_count": 15,
   "id": "773c1596-1cc4-433c-8cff-1ab0d1b69b3c",
   "metadata": {},
   "outputs": [
    {
     "name": "stdout",
     "output_type": "stream",
     "text": [
      "Requirement already satisfied: opencv-python in /Users/amanyomar/Desktop/code/myenv/lib/python3.8/site-packages (4.8.1.78)\n",
      "Requirement already satisfied: numpy>=1.17.0 in /Users/amanyomar/Desktop/code/myenv/lib/python3.8/site-packages (from opencv-python) (1.24.4)\n"
     ]
    }
   ],
   "source": [
    "# !pip install --upgrade pip\n",
    "# !pip install opencv-python"
   ]
  },
  {
   "cell_type": "code",
   "execution_count": 21,
   "id": "82d36c41-9a7a-467d-97f8-f071a57d3a00",
   "metadata": {},
   "outputs": [],
   "source": [
    "import cv2"
   ]
  },
  {
   "cell_type": "code",
   "execution_count": null,
   "id": "c3d584b3-793f-43c0-a1ed-7b80aa5fca8b",
   "metadata": {},
   "outputs": [],
   "source": [
    "# To connect to the default camera\n",
    "\n",
    "cap = cv2.VideoCapture(0)"
   ]
  },
  {
   "cell_type": "code",
   "execution_count": null,
   "id": "f3de7a10-8f7f-48e8-a60d-fd36995592b7",
   "metadata": {},
   "outputs": [],
   "source": [
    "# To get the width and height of the captured frame\n",
    "\n",
    "width = int(cap.get(cv2.CAP_PROP_FRAME_WIDTH))\n",
    "height = int(cap.get(cv2.CAP_PROP_FRAME_HEIGHT))"
   ]
  },
  {
   "cell_type": "code",
   "execution_count": null,
   "id": "6685e746-510c-489c-9dfa-dd2206b58f82",
   "metadata": {},
   "outputs": [],
   "source": [
    "while True:\n",
    "    ret, frame = cap.read()\n",
    "    \"\"\"\n",
    "    ret (short for \"return\"): A boolean value indicating whether the frame was successfully read or not.\n",
    "    \n",
    "    frame: The actual frame that is read from the video source. It is a NumPy array representing the image.\n",
    "    \"\"\"\n",
    "\n",
    "    if not ret:\n",
    "        print('Frame has not been read successfully!')\n",
    "        continue\n",
    "    \n",
    "    # To convert the frame to grayscale \n",
    "    gray = cv2.cvtColor(frame, cv2.COLOR_BGR2GRAY)\n",
    "\n",
    "    # To show the frame\n",
    "    cv2.imshow('frame', gray)\n",
    "\n",
    "    # To exit the frame after every 1 second or when pressing q button\n",
    "    if cv2.waitKey(1) or 0xFF == ord('q'):\n",
    "        break\n",
    "\n",
    "# To stop capturing the video\n",
    "cap.release()\n",
    "\n",
    "# After finishing reading the whole video \n",
    "cv2.destroyAllWindows()"
   ]
  },
  {
   "cell_type": "code",
   "execution_count": null,
   "id": "f5f41f43-8977-4aa5-8b97-2f76ddbff91c",
   "metadata": {},
   "outputs": [],
   "source": []
  },
  {
   "cell_type": "code",
   "execution_count": null,
   "id": "ef29aaa4-254d-4c3e-9fa6-45c906d0a407",
   "metadata": {},
   "outputs": [],
   "source": []
  },
  {
   "cell_type": "code",
   "execution_count": null,
   "id": "45b14b51-96c4-413e-ab4d-5bb88cfe2abb",
   "metadata": {},
   "outputs": [],
   "source": []
  },
  {
   "cell_type": "code",
   "execution_count": null,
   "id": "7ac163cf-c519-4255-a68a-0b10ad4da83c",
   "metadata": {},
   "outputs": [],
   "source": []
  }
 ],
 "metadata": {
  "kernelspec": {
   "display_name": "Python 3 (ipykernel)",
   "language": "python",
   "name": "python3"
  },
  "language_info": {
   "codemirror_mode": {
    "name": "ipython",
    "version": 3
   },
   "file_extension": ".py",
   "mimetype": "text/x-python",
   "name": "python",
   "nbconvert_exporter": "python",
   "pygments_lexer": "ipython3",
   "version": "3.11.4"
  }
 },
 "nbformat": 4,
 "nbformat_minor": 5
}
